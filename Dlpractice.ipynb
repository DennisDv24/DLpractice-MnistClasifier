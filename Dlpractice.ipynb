{
  "nbformat": 4,
  "nbformat_minor": 0,
  "metadata": {
    "colab": {
      "name": "Dlpractice.ipynb",
      "version": "0.3.2",
      "provenance": [],
      "collapsed_sections": [
        "n8mErcYEcTYu"
      ],
      "include_colab_link": true
    },
    "kernelspec": {
      "name": "python3",
      "display_name": "Python 3"
    }
  },
  "cells": [
    {
      "cell_type": "markdown",
      "metadata": {
        "id": "view-in-github",
        "colab_type": "text"
      },
      "source": [
        "<a href=\"https://colab.research.google.com/github/deverchat24/DLpractice-MnistClasifier/blob/MnistClassiffier/Dlpractice.ipynb\" target=\"_parent\"><img src=\"https://colab.research.google.com/assets/colab-badge.svg\" alt=\"Open In Colab\"/></a>"
      ]
    },
    {
      "metadata": {
        "id": "n8mErcYEcTYu",
        "colab_type": "text"
      },
      "cell_type": "markdown",
      "source": [
        "# Data visualization and prepration"
      ]
    },
    {
      "metadata": {
        "id": "S3v7pK59c6Vz",
        "colab_type": "text"
      },
      "cell_type": "markdown",
      "source": [
        "Libreries"
      ]
    },
    {
      "metadata": {
        "id": "Ebo-SioweQWN",
        "colab_type": "code",
        "colab": {}
      },
      "cell_type": "code",
      "source": [
        "import tensorflow as tf\n",
        "import sklearn as sk\n",
        "import matplotlib as mpl\n",
        "import keras \n",
        "from matplotlib import pyplot as plt\n",
        "\n",
        "import numpy as np\n",
        "from numpy import linalg"
      ],
      "execution_count": 0,
      "outputs": []
    },
    {
      "metadata": {
        "id": "a5YyDPU0gmEQ",
        "colab_type": "text"
      },
      "cell_type": "markdown",
      "source": [
        "Mnist dataset importation and visualization"
      ]
    },
    {
      "metadata": {
        "id": "pXEn3BQAftLb",
        "colab_type": "code",
        "colab": {}
      },
      "cell_type": "code",
      "source": [
        "from keras.datasets import mnist\n",
        "\n",
        "(x_train, y_train) , (x_test,y_test) = mnist.load_data() #Cargamos los datos tanto como de entrenamiento\n",
        "                                                         #como de testeo (junto a la \"label\"(y) y el\n",
        "                                                         #dato de entrada (x))\n",
        "  "
      ],
      "execution_count": 0,
      "outputs": []
    },
    {
      "metadata": {
        "id": "PSWEvLr0hZVd",
        "colab_type": "code",
        "outputId": "45e1db9c-f98d-418d-9450-aa75b19cf40b",
        "colab": {
          "base_uri": "https://localhost:8080/",
          "height": 85
        }
      },
      "cell_type": "code",
      "source": [
        "print(x_train.ndim)  #.ndim para la dimnesión (como es 3 = tensor 3D)\n",
        "print(x_train.shape) #.shpe para ver la disposicion y cantidad de datos (60k datos de 28*26 pixeles,\n",
        "                     # tensor 60000x28x28)\n",
        "print(x_train.dtype) #.dtype = data type\n",
        "len(y_train)         # para ver la cantidad de datos para y_train"
      ],
      "execution_count": 212,
      "outputs": [
        {
          "output_type": "stream",
          "text": [
            "3\n",
            "(60000, 28, 28)\n",
            "uint8\n"
          ],
          "name": "stdout"
        },
        {
          "output_type": "execute_result",
          "data": {
            "text/plain": [
              "60000"
            ]
          },
          "metadata": {
            "tags": []
          },
          "execution_count": 212
        }
      ]
    },
    {
      "metadata": {
        "id": "javl2tCdiCcL",
        "colab_type": "code",
        "outputId": "a1209645-9209-43df-9b5b-40dbee13bedb",
        "colab": {
          "base_uri": "https://localhost:8080/",
          "height": 364
        }
      },
      "cell_type": "code",
      "source": [
        "umpteenthElement = 9991\n",
        "plt.imshow(x_train[umpteenthElement], cmap = plt.cm.binary) #mapeamos una \"x\" enesima en forma de imagen\n",
        "print(y_train[umpteenthElement]) #mostramos la \"label\" del enesimo elemento"
      ],
      "execution_count": 213,
      "outputs": [
        {
          "output_type": "stream",
          "text": [
            "3\n"
          ],
          "name": "stdout"
        },
        {
          "output_type": "display_data",
          "data": {
            "image/png": "[encoded data removed]",
            "text/plain": [
              "<Figure size 576x396 with 1 Axes>"
            ]
          },
          "metadata": {
            "tags": []
          }
        }
      ]
    },
    {
      "metadata": {
        "id": "jCmx-g3oJYG9",
        "colab_type": "code",
        "colab": {
          "base_uri": "https://localhost:8080/",
          "height": 364
        },
        "outputId": "7e341dec-696a-4661-b274-4844b6fd9c26"
      },
      "cell_type": "code",
      "source": [
        "plt.imshow(x_test[umpteenthElement], cmap = plt.cm.binary) #mapeamos una \"x\" enesima en forma de imagen\n",
        "print(y_test[umpteenthElement])"
      ],
      "execution_count": 214,
      "outputs": [
        {
          "output_type": "stream",
          "text": [
            "8\n"
          ],
          "name": "stdout"
        },
        {
          "output_type": "display_data",
          "data": {
            "image/png": "[encoded data removed]",
            "text/plain": [
              "<Figure size 576x396 with 1 Axes>"
            ]
          },
          "metadata": {
            "tags": []
          }
        }
      ]
    },
    {
      "metadata": {
        "id": "rSwf1yCmjOJ1",
        "colab_type": "code",
        "outputId": "14747be8-d8e9-4293-b920-5f9289869dce",
        "colab": {
          "base_uri": "https://localhost:8080/",
          "height": 513
        }
      },
      "cell_type": "code",
      "source": [
        "np.set_printoptions(precision=2, suppress=True, linewidth=500) #cambiamos valores para print desde numpy\n",
        "print(np.matrix(x_train[umpteenthElement]))  #mostramos el enesimo \"x\" en su forma de arreglo (Matriz)"
      ],
      "execution_count": 215,
      "outputs": [
        {
          "output_type": "stream",
          "text": [
            "[[  0   0   0   0   0   0   0   0   0   0   0   0   0   0   0   0   0   0   0   0   0   0   0   0   0   0   0   0]\n",
            " [  0   0   0   0   0   0   0   0   0   0   0   0   0   0   0   0   0   0   0   0   0   0   0   0   0   0   0   0]\n",
            " [  0   0   0   0   0   0   0   0   0   0   0   0   0   0   0   0   0   0   0   0   0   0   0   0   0   0   0   0]\n",
            " [  0   0   0   0   0   0   0   0   0   0   0   0   0   0   0   0   0   0   0   0   0   0   0   0   0   0   0   0]\n",
            " [  0   0   0   0   0   0   0   0   0   0   0 142 254 254 254 254 255 148   0   0   0   0   0   0   0   0   0   0]\n",
            " [  0   0   0   0   0   0   0   0   0   0  84 252 253 253 253 253 253 252 149   0   0   0   0   0   0   0   0   0]\n",
            " [  0   0   0   0   0   0   0   0   0   0 209 253 253 253 227 142 162 253 220   0   0   0   0   0   0   0   0   0]\n",
            " [  0   0   0   0   0   0   0   0   0   0  60 149 149  48  15   0  46 253 220   0   0   0   0   0   0   0   0   0]\n",
            " [  0   0   0   0   0   0   0   0   0   0   0   0   0   0   0  98 233 253 237  50   0   0   0   0   0   0   0   0]\n",
            " [  0   0   0   0   0   0   0   0   0   0   0   0   0  71 189 244 253 253 220   0   0   0   0   0   0   0   0   0]\n",
            " [  0   0   0   0   0   0   0   0   0   0   0  27 123 245 253 253 253 253 220   0   0   0   0   0   0   0   0   0]\n",
            " [  0   0   0   0   0   0   0   0   0   0   0 119 253 253 253 253 199 227 247  80   0   0   0   0   0   0   0   0]\n",
            " [  0   0   0   0   0   0   0   0   0   0   0 209 253 253 253 174  16  66 253  97   0   0   0   0   0   0   0   0]\n",
            " [  0   0   0   0   0   0   0   0   0   0   0  88 206 203  91  17   0  40 253 197   0   0   0   0   0   0   0   0]\n",
            " [  0   0   0   0   0   0   0   0   0   0   0   0  19  15   0   0   0  70 253 227   0   0   0   0   0   0   0   0]\n",
            " [  0   0   0   0   0   0   0   0   0   0   0   0   0   0   0   0   0 169 253 200   0   0   0   0   0   0   0   0]\n",
            " [  0   0   0   0   0   0   0   0   0   0   0   0   0   0   0   0   9 185 253  97   0   0   0   0   0   0   0   0]\n",
            " [  0   0   0   0   0   0   0   0  36  26   0   0   0   0   0   0  66 253 231  32   0   0   0   0   0   0   0   0]\n",
            " [  0   0   0   0   0   0   0   0 228 221  53   6   0   0  17  51 226 253 220   0   0   0   0   0   0   0   0   0]\n",
            " [  0   0   0   0   0   0   0   0 228 253 253 173 156 156 206 226 253 253 221   0   0   0   0   0   0   0   0   0]\n",
            " [  0   0   0   0   0   0   0   0 228 253 253 253 253 253 253 253 253 240 136   0   0   0   0   0   0   0   0   0]\n",
            " [  0   0   0   0   0   0   0   0 149 252 253 253 253 253 253 253 244  80   0   0   0   0   0   0   0   0   0   0]\n",
            " [  0   0   0   0   0   0   0   0   0 149 249 253 253 253 252 220  36   0   0   0   0   0   0   0   0   0   0   0]\n",
            " [  0   0   0   0   0   0   0   0   0   0  42 230 253 152  95   0   0   0   0   0   0   0   0   0   0   0   0   0]\n",
            " [  0   0   0   0   0   0   0   0   0   0   0   0   0   0   0   0   0   0   0   0   0   0   0   0   0   0   0   0]\n",
            " [  0   0   0   0   0   0   0   0   0   0   0   0   0   0   0   0   0   0   0   0   0   0   0   0   0   0   0   0]\n",
            " [  0   0   0   0   0   0   0   0   0   0   0   0   0   0   0   0   0   0   0   0   0   0   0   0   0   0   0   0]\n",
            " [  0   0   0   0   0   0   0   0   0   0   0   0   0   0   0   0   0   0   0   0   0   0   0   0   0   0   0   0]]\n"
          ],
          "name": "stdout"
        }
      ]
    },
    {
      "metadata": {
        "id": "-awL0dqJSYGl",
        "colab_type": "text"
      },
      "cell_type": "markdown",
      "source": [
        "Data preparing"
      ]
    },
    {
      "metadata": {
        "id": "HXdH3ysPPNze",
        "colab_type": "code",
        "colab": {}
      },
      "cell_type": "code",
      "source": [
        "x_train = x_train.astype('float32')\n",
        "x_test = x_test.astype('float32') #cambiamos data type de unit8 a float32 \"por conveniencia\"\n",
        "x_train /= 255\n",
        "x_test /=255   #Asi nuestros valores que oscilaban entre 0 y 255 pasan a oscilar entre 0 y 1, mucho mejor!"
      ],
      "execution_count": 0,
      "outputs": []
    },
    {
      "metadata": {
        "id": "y1DhzNNbHiW7",
        "colab_type": "code",
        "colab": {}
      },
      "cell_type": "code",
      "source": [
        "x_train = x_train.reshape(60000, 784)\n",
        "x_test = x_test.reshape(10000, 784) #convertimos los tensores unidadx28x28 en unidadx784\n",
        "                                    #(arreglo unidimensional)\n",
        "                                    #pues nuestra capa de entrada es unidimenisonal, algo que con las\n",
        "                                    #convolucionales no pasa\n",
        "      "
      ],
      "execution_count": 0,
      "outputs": []
    },
    {
      "metadata": {
        "id": "xflEFjduQEcm",
        "colab_type": "code",
        "colab": {}
      },
      "cell_type": "code",
      "source": [
        "from keras.utils import to_categorical #import one-hot encoding transformation\n",
        "y_train = keras.utils.to_categorical(y_train, num_classes = 10)\n",
        "y_test = keras.utils.to_categorical(y_test, num_classes = 10)"
      ],
      "execution_count": 0,
      "outputs": []
    },
    {
      "metadata": {
        "id": "FSQXahFVSgDs",
        "colab_type": "text"
      },
      "cell_type": "markdown",
      "source": [
        "#NN"
      ]
    },
    {
      "metadata": {
        "id": "o_GLkh83SyXN",
        "colab_type": "text"
      },
      "cell_type": "markdown",
      "source": [
        "Sequential class and model definition\n",
        "\n",
        "\n",
        "\n"
      ]
    },
    {
      "metadata": {
        "id": "8zY0iDW_RdsO",
        "colab_type": "code",
        "outputId": "0883c882-d0b7-499d-9356-6cb16e5033f7",
        "colab": {
          "base_uri": "https://localhost:8080/",
          "height": 204
        }
      },
      "cell_type": "code",
      "source": [
        "from keras.models import Sequential\n",
        "from keras.layers.core import Dense\n",
        "from keras.optimizers import sgd\n",
        "\n",
        "model = Sequential()\n",
        "model.add(Dense(10, activation = 'sigmoid', input_shape = (784,))) #shape = 784 imput neurons\n",
        "model.add(Dense(10, activation = 'softmax'))\n",
        "\n",
        "model.summary()"
      ],
      "execution_count": 219,
      "outputs": [
        {
          "output_type": "stream",
          "text": [
            "_________________________________________________________________\n",
            "Layer (type)                 Output Shape              Param #   \n",
            "=================================================================\n",
            "dense_25 (Dense)             (None, 10)                7850      \n",
            "_________________________________________________________________\n",
            "dense_26 (Dense)             (None, 10)                110       \n",
            "=================================================================\n",
            "Total params: 7,960\n",
            "Trainable params: 7,960\n",
            "Non-trainable params: 0\n",
            "_________________________________________________________________\n"
          ],
          "name": "stdout"
        }
      ]
    },
    {
      "metadata": {
        "id": "kvyCd8KyyE1Y",
        "colab_type": "text"
      },
      "cell_type": "markdown",
      "source": [
        "Configuration, training and nn testing"
      ]
    },
    {
      "metadata": {
        "id": "q706yqplw91I",
        "colab_type": "code",
        "colab": {
          "base_uri": "https://localhost:8080/",
          "height": 255
        },
        "outputId": "e53fd054-c569-4a03-9e1d-8a7b39d1caf4"
      },
      "cell_type": "code",
      "source": [
        "model.compile(loss = 'categorical_crossentropy', #Funcion de calculo de loss\n",
        "              optimizer = 'sgd',                  #Optimizador = stocastic gradient desccent (ajusta w)\n",
        "              metrics = ['accuracy'])            #Metrica de accuracy calcula la precisón\n",
        "\n",
        "b_s = 10\n",
        "ep = 5\n",
        "\n",
        "\n",
        "model.fit(x_train, y_train,\n",
        "          batch_size = b_s, #actualizaciones cada b_s iteraciones\n",
        "          epochs = ep,\n",
        "          verbose = 1\n",
        "          )\n",
        "\n",
        "#Test\n",
        "test_loss, test_accuracy = model.evaluate(x_test, y_test)\n",
        "\n",
        "print('------------')\n",
        "print('Test loss:', test_loss)\n",
        "print('Test accuracy:', test_accuracy)\n"
      ],
      "execution_count": 220,
      "outputs": [
        {
          "output_type": "stream",
          "text": [
            "Epoch 1/5\n",
            "60000/60000 [==============================] - 7s 122us/step - loss: 1.3164 - acc: 0.6965\n",
            "Epoch 2/5\n",
            "60000/60000 [==============================] - 7s 112us/step - loss: 0.6435 - acc: 0.8528\n",
            "Epoch 3/5\n",
            "60000/60000 [==============================] - 7s 111us/step - loss: 0.4913 - acc: 0.8797\n",
            "Epoch 4/5\n",
            "60000/60000 [==============================] - 7s 112us/step - loss: 0.4240 - acc: 0.8914\n",
            "Epoch 5/5\n",
            "60000/60000 [==============================] - 7s 111us/step - loss: 0.3855 - acc: 0.8987\n",
            "10000/10000 [==============================] - 0s 40us/step\n",
            "------------\n",
            "Test loss: 0.36020713679790495\n",
            "Test accuracy: 0.9081\n"
          ],
          "name": "stdout"
        }
      ]
    },
    {
      "metadata": {
        "id": "VWwTGRIJ8itM",
        "colab_type": "text"
      },
      "cell_type": "markdown",
      "source": [
        "# Confusion matrix"
      ]
    },
    {
      "metadata": {
        "id": "dGoee8dZBEmb",
        "colab_type": "code",
        "colab": {
          "base_uri": "https://localhost:8080/",
          "height": 415
        },
        "outputId": "36eb0d0d-95c3-45ef-d674-8e279af526e3"
      },
      "cell_type": "code",
      "source": [
        "from collections import Counter\n",
        "from sklearn.metrics import confusion_matrix\n",
        "import itertools\n",
        "\n",
        "\n",
        "def plot_confusion_matrix(cm, classes,\n",
        "                          normalize=False,             #Function config\n",
        "                          title='Confusion matrix',\n",
        "                          cmap=plt.cm.Greens):\n",
        "  \n",
        "    plt.imshow(cm, interpolation='nearest', cmap=cmap) #Mostrar todos los datos del grafo\n",
        "    plt.title(title, color = 'red')\n",
        "    plt.colorbar()\n",
        "    tick_marks = np.arange(len(classes))\n",
        "    plt.xticks(tick_marks, classes)\n",
        "    plt.yticks(tick_marks, classes, rotation = 45)\n",
        "\n",
        "    if normalize:\n",
        "        cm = cm.astype('float') / cm.sum(axis=1)[:, np.newaxis]\n",
        "\n",
        "    thresh = cm.max() / 2.\n",
        "    for i, j in itertools.product(range(cm.shape[0]), range(cm.shape[1])):\n",
        "        plt.text(j, i, cm[i, j],\n",
        "                 horizontalalignment=\"center\",\n",
        "                 color=\"white\" if cm[i, j] > thresh else \"blue\"\n",
        "                ,rotation = 50 if cm[i, j] > thresh else 0)\n",
        "\n",
        "    plt.tight_layout()\n",
        "    plt.ylabel('Train', color = 'green')\n",
        "    plt.xlabel('Test', color = 'purple')\n",
        "    \n",
        "    \n",
        "    \n",
        "Y_pred = model.predict(x_test)\n",
        "Y_pred_classes = np.argmax(Y_pred, axis = 1) \n",
        "Y_true = np.argmax(y_test, axis = 1) \n",
        "confusion_mtx = confusion_matrix(Y_true, Y_pred_classes) \n",
        "plot_confusion_matrix(confusion_mtx, classes = range(10))"
      ],
      "execution_count": 221,
      "outputs": [
        {
          "output_type": "display_data",
          "data": {
            "image/png": "[encoded data removed]",
            "text/plain": [
              "<Figure size 576x396 with 2 Axes>"
            ]
          },
          "metadata": {
            "tags": []
          }
        }
      ]
    },
    {
      "metadata": {
        "id": "DIEGtwT-GfWs",
        "colab_type": "code",
        "colab": {
          "base_uri": "https://localhost:8080/",
          "height": 51
        },
        "outputId": "1269fd94-cb4a-4611-db68-f6a3a9108c4f"
      },
      "cell_type": "code",
      "source": [
        "predictions = model.predict(x_test)\n",
        "\n",
        "print(np.sum(predictions[umpteenthElement]))\n",
        "print(np.argmax(predictions[umpteenthElement]))"
      ],
      "execution_count": 222,
      "outputs": [
        {
          "output_type": "stream",
          "text": [
            "0.99999994\n",
            "8\n"
          ],
          "name": "stdout"
        }
      ]
    }
  ]
}